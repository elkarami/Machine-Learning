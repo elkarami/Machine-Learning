{
 "cells": [
  {
   "cell_type": "code",
   "execution_count": 30,
   "id": "31a4d227",
   "metadata": {},
   "outputs": [
    {
     "name": "stdout",
     "output_type": "stream",
     "text": [
      "*\n",
      "**\n",
      "* *\n",
      "*  *\n",
      "*   *\n",
      "*    *\n",
      "*     *\n",
      "*      *\n",
      "*       *\n",
      "*        *\n",
      "*         *\n",
      "*          *\n",
      "*           *\n",
      "*            *\n",
      "*             *\n",
      "****************\n"
     ]
    }
   ],
   "source": [
    "n=15\n",
    "for i in range(n+1):\n",
    "    lst = []\n",
    "    for j in range(i+1):\n",
    "        \n",
    "        if j==i or j==0 or i==n:\n",
    "            lst.append(\"*\")\n",
    "        else :\n",
    "            lst.append(\" \")\n",
    "    print(''.join(lst))"
   ]
  },
  {
   "cell_type": "code",
   "execution_count": 37,
   "id": "3eaaff77",
   "metadata": {},
   "outputs": [
    {
     "data": {
      "text/plain": [
       "True"
      ]
     },
     "execution_count": 37,
     "metadata": {},
     "output_type": "execute_result"
    }
   ],
   "source": [
    "a = 3\n",
    "b = 5 \n",
    "c = 9\n",
    "#a == b == c \n",
    "(a == b ) and (a == c) and (c == b) or True"
   ]
  },
  {
   "cell_type": "code",
   "execution_count": 41,
   "id": "d8956c6c",
   "metadata": {},
   "outputs": [
    {
     "data": {
      "text/plain": [
       "[3, 6, 51, 2027, 11, 38]"
      ]
     },
     "execution_count": 41,
     "metadata": {},
     "output_type": "execute_result"
    }
   ],
   "source": [
    "ls = [1,2,7,45,3,6]\n",
    "lsc = [x**2+2 for x in ls]\n",
    "lsc"
   ]
  },
  {
   "cell_type": "code",
   "execution_count": 1,
   "id": "a090bf0d",
   "metadata": {},
   "outputs": [
    {
     "name": "stdout",
     "output_type": "stream",
     "text": [
      "hello world\n"
     ]
    }
   ],
   "source": [
    "print('hello world')"
   ]
  }
 ],
 "metadata": {
  "kernelspec": {
   "display_name": "Python 3.10.2 64-bit",
   "language": "python",
   "name": "python3"
  },
  "language_info": {
   "codemirror_mode": {
    "name": "ipython",
    "version": 3
   },
   "file_extension": ".py",
   "mimetype": "text/x-python",
   "name": "python",
   "nbconvert_exporter": "python",
   "pygments_lexer": "ipython3",
   "version": "3.10.2"
  },
  "vscode": {
   "interpreter": {
    "hash": "0cad00d5a13a3f60cb6d0dee52753d434f6ef86636012a882082aa2fea66afa5"
   }
  }
 },
 "nbformat": 4,
 "nbformat_minor": 5
}
